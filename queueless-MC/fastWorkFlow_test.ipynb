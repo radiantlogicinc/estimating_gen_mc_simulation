{
 "cells": [
  {
   "cell_type": "code",
   "execution_count": 9,
   "id": "335e4812-a94d-4c28-a762-c9671210736f",
   "metadata": {},
   "outputs": [],
   "source": [
    "import polars as pl\n",
    "import markdown\n",
    "from IPython.display import display, Markdown"
   ]
  },
  {
   "cell_type": "code",
   "execution_count": 2,
   "id": "6ca3c450-70da-48cb-82eb-ddaa3eb2d15c",
   "metadata": {},
   "outputs": [],
   "source": [
    "# pip install markdown"
   ]
  },
  {
   "cell_type": "code",
   "execution_count": 3,
   "id": "697f4b9a-310a-4c28-a898-4e5930ef45a0",
   "metadata": {},
   "outputs": [
    {
     "data": {
      "text/html": [
       "<div><style>\n",
       ".dataframe > thead > tr,\n",
       ".dataframe > tbody > tr {\n",
       "  text-align: right;\n",
       "  white-space: pre-wrap;\n",
       "}\n",
       "</style>\n",
       "<small>shape: (120, 4)</small><table border=\"1\" class=\"dataframe\"><thead><tr><th>item</th><th>control_type</th><th>time_span</th><th>mean</th></tr><tr><td>str</td><td>str</td><td>i64</td><td>f64</td></tr></thead><tbody><tr><td>&quot;generated_per_day_ACC03_1&quot;</td><td>&quot;ACC03&quot;</td><td>1</td><td>2.5</td></tr><tr><td>&quot;generated_per_day_ACC03_2&quot;</td><td>&quot;ACC03&quot;</td><td>2</td><td>2.0</td></tr><tr><td>&quot;generated_per_day_ACC03_3&quot;</td><td>&quot;ACC03&quot;</td><td>3</td><td>3.0</td></tr><tr><td>&quot;generated_per_day_ACC17_1&quot;</td><td>&quot;ACC17&quot;</td><td>1</td><td>2.33</td></tr><tr><td>&quot;generated_per_day_ACC17_2&quot;</td><td>&quot;ACC17&quot;</td><td>2</td><td>2.7</td></tr><tr><td>&hellip;</td><td>&hellip;</td><td>&hellip;</td><td>&hellip;</td></tr><tr><td>&quot;delta_new_closed_AUTH18_2&quot;</td><td>&quot;AUTH18&quot;</td><td>2</td><td>24.244</td></tr><tr><td>&quot;delta_new_closed_AUTH18_3&quot;</td><td>&quot;AUTH18&quot;</td><td>3</td><td>26.379</td></tr><tr><td>&quot;delta_new_closed_AUTH42_1&quot;</td><td>&quot;AUTH42&quot;</td><td>1</td><td>73.218</td></tr><tr><td>&quot;delta_new_closed_AUTH42_2&quot;</td><td>&quot;AUTH42&quot;</td><td>2</td><td>68.057</td></tr><tr><td>&quot;delta_new_closed_AUTH42_3&quot;</td><td>&quot;AUTH42&quot;</td><td>3</td><td>62.261</td></tr></tbody></table></div>"
      ],
      "text/plain": [
       "shape: (120, 4)\n",
       "┌───────────────────────────┬──────────────┬───────────┬────────┐\n",
       "│ item                      ┆ control_type ┆ time_span ┆ mean   │\n",
       "│ ---                       ┆ ---          ┆ ---       ┆ ---    │\n",
       "│ str                       ┆ str          ┆ i64       ┆ f64    │\n",
       "╞═══════════════════════════╪══════════════╪═══════════╪════════╡\n",
       "│ generated_per_day_ACC03_1 ┆ ACC03        ┆ 1         ┆ 2.5    │\n",
       "│ generated_per_day_ACC03_2 ┆ ACC03        ┆ 2         ┆ 2.0    │\n",
       "│ generated_per_day_ACC03_3 ┆ ACC03        ┆ 3         ┆ 3.0    │\n",
       "│ generated_per_day_ACC17_1 ┆ ACC17        ┆ 1         ┆ 2.33   │\n",
       "│ generated_per_day_ACC17_2 ┆ ACC17        ┆ 2         ┆ 2.7    │\n",
       "│ …                         ┆ …            ┆ …         ┆ …      │\n",
       "│ delta_new_closed_AUTH18_2 ┆ AUTH18       ┆ 2         ┆ 24.244 │\n",
       "│ delta_new_closed_AUTH18_3 ┆ AUTH18       ┆ 3         ┆ 26.379 │\n",
       "│ delta_new_closed_AUTH42_1 ┆ AUTH42       ┆ 1         ┆ 73.218 │\n",
       "│ delta_new_closed_AUTH42_2 ┆ AUTH42       ┆ 2         ┆ 68.057 │\n",
       "│ delta_new_closed_AUTH42_3 ┆ AUTH42       ┆ 3         ┆ 62.261 │\n",
       "└───────────────────────────┴──────────────┴───────────┴────────┘"
      ]
     },
     "execution_count": 3,
     "metadata": {},
     "output_type": "execute_result"
    }
   ],
   "source": [
    "test_df = pl.read_json('fastWorkFlow_test_v2.json', schema={\"item\":pl.String, \"control_type\":pl.String, \"time_span\":pl.String, \"mean\":pl.String})\n",
    "test_df = test_df.with_columns(pl.col('time_span').cast(pl.Int64).alias('time_span'))\n",
    "test_df = test_df.with_columns(pl.col('mean').cast(pl.Float64).alias('mean'))\n",
    "test_df"
   ]
  },
  {
   "cell_type": "code",
   "execution_count": 4,
   "id": "00f997a8-1324-47b8-9aa5-981691f85739",
   "metadata": {},
   "outputs": [
    {
     "data": {
      "text/html": [
       "<div><style>\n",
       ".dataframe > thead > tr,\n",
       ".dataframe > tbody > tr {\n",
       "  text-align: right;\n",
       "  white-space: pre-wrap;\n",
       "}\n",
       "</style>\n",
       "<small>shape: (120,)</small><table border=\"1\" class=\"dataframe\"><thead><tr><th>mean</th></tr><tr><td>f64</td></tr></thead><tbody><tr><td>2.5</td></tr><tr><td>2.0</td></tr><tr><td>3.0</td></tr><tr><td>2.33</td></tr><tr><td>2.7</td></tr><tr><td>&hellip;</td></tr><tr><td>24.244</td></tr><tr><td>26.379</td></tr><tr><td>73.218</td></tr><tr><td>68.057</td></tr><tr><td>62.261</td></tr></tbody></table></div>"
      ],
      "text/plain": [
       "shape: (120,)\n",
       "Series: 'mean' [f64]\n",
       "[\n",
       "\t2.5\n",
       "\t2.0\n",
       "\t3.0\n",
       "\t2.33\n",
       "\t2.7\n",
       "\t…\n",
       "\t24.244\n",
       "\t26.379\n",
       "\t73.218\n",
       "\t68.057\n",
       "\t62.261\n",
       "]"
      ]
     },
     "execution_count": 4,
     "metadata": {},
     "output_type": "execute_result"
    }
   ],
   "source": [
    "test_df['mean']"
   ]
  },
  {
   "cell_type": "code",
   "execution_count": 5,
   "id": "e8cfd338-fb7c-42c9-8eb3-db64d471f036",
   "metadata": {},
   "outputs": [],
   "source": [
    "class fastWorkFlow_test:\n",
    "    def __init__(self, info_df):\n",
    "        self.info_df = info_df\n",
    "\n",
    "    def extractValues(self, control_type, time_span):\n",
    "        filtered_info_df = self.info_df.filter(pl.col('control_type') == control_type, pl.col('time_span') == time_span)\n",
    "        return filtered_info_df\n",
    "    \n",
    "    def README(self):\n",
    "        pass\n",
    "\n",
    "\n",
    "    "
   ]
  },
  {
   "cell_type": "code",
   "execution_count": 7,
   "id": "b0e9f608-7a8f-4ea2-a027-74250839a732",
   "metadata": {},
   "outputs": [
    {
     "data": {
      "text/html": [
       "<div><style>\n",
       ".dataframe > thead > tr,\n",
       ".dataframe > tbody > tr {\n",
       "  text-align: right;\n",
       "  white-space: pre-wrap;\n",
       "}\n",
       "</style>\n",
       "<small>shape: (8, 4)</small><table border=\"1\" class=\"dataframe\"><thead><tr><th>item</th><th>control_type</th><th>time_span</th><th>mean</th></tr><tr><td>str</td><td>str</td><td>i64</td><td>f64</td></tr></thead><tbody><tr><td>&quot;generated_per_day_ACC03_2&quot;</td><td>&quot;ACC03&quot;</td><td>2</td><td>2.0</td></tr><tr><td>&quot;generated_per_hour_ACC03_2&quot;</td><td>&quot;ACC03&quot;</td><td>2</td><td>0.33</td></tr><tr><td>&quot;remediated_per_day_ACC03_2&quot;</td><td>&quot;ACC03&quot;</td><td>2</td><td>2.6</td></tr><tr><td>&quot;remediated_per_hour_ACC03_2&quot;</td><td>&quot;ACC03&quot;</td><td>2</td><td>0.23</td></tr><tr><td>&quot;delta_new_assign_ACC03_2&quot;</td><td>&quot;ACC03&quot;</td><td>2</td><td>5.625</td></tr><tr><td>&quot;delta_assign_inprogress_ACC03_…</td><td>&quot;ACC03&quot;</td><td>2</td><td>4.956</td></tr><tr><td>&quot;delta_inprogress_closed_ACC03_…</td><td>&quot;ACC03&quot;</td><td>2</td><td>4.561</td></tr><tr><td>&quot;delta_new_closed_ACC03_2&quot;</td><td>&quot;ACC03&quot;</td><td>2</td><td>15.142</td></tr></tbody></table></div>"
      ],
      "text/plain": [
       "shape: (8, 4)\n",
       "┌─────────────────────────────────┬──────────────┬───────────┬────────┐\n",
       "│ item                            ┆ control_type ┆ time_span ┆ mean   │\n",
       "│ ---                             ┆ ---          ┆ ---       ┆ ---    │\n",
       "│ str                             ┆ str          ┆ i64       ┆ f64    │\n",
       "╞═════════════════════════════════╪══════════════╪═══════════╪════════╡\n",
       "│ generated_per_day_ACC03_2       ┆ ACC03        ┆ 2         ┆ 2.0    │\n",
       "│ generated_per_hour_ACC03_2      ┆ ACC03        ┆ 2         ┆ 0.33   │\n",
       "│ remediated_per_day_ACC03_2      ┆ ACC03        ┆ 2         ┆ 2.6    │\n",
       "│ remediated_per_hour_ACC03_2     ┆ ACC03        ┆ 2         ┆ 0.23   │\n",
       "│ delta_new_assign_ACC03_2        ┆ ACC03        ┆ 2         ┆ 5.625  │\n",
       "│ delta_assign_inprogress_ACC03_… ┆ ACC03        ┆ 2         ┆ 4.956  │\n",
       "│ delta_inprogress_closed_ACC03_… ┆ ACC03        ┆ 2         ┆ 4.561  │\n",
       "│ delta_new_closed_ACC03_2        ┆ ACC03        ┆ 2         ┆ 15.142 │\n",
       "└─────────────────────────────────┴──────────────┴───────────┴────────┘"
      ]
     },
     "execution_count": 7,
     "metadata": {},
     "output_type": "execute_result"
    }
   ],
   "source": [
    "instance = fastWorkFlow_test(test_df)\n",
    "filtered_info_df = instance.extractValues(\"ACC03\", 2)\n",
    "filtered_info_df"
   ]
  },
  {
   "cell_type": "code",
   "execution_count": 16,
   "id": "53fb6563-8d7f-44bf-a9ce-0c3418e2e8e6",
   "metadata": {
    "scrolled": true
   },
   "outputs": [
    {
     "data": {
      "text/markdown": [
       "<h4>Intro</h4>\n",
       "<p><code>fastWorkFlow_test</code> is a class designed to enable interfacing with fastWorkFlow. \n",
       "The goal of <code>fastWorkFlow_test</code> is to filter the polars DataFrame <code>test_df</code> for values corresponding only to the given parameters <code>control_type</code> and <code>time_span</code>.</p>\n",
       "<h4>Columns</h4>\n",
       "<p>The columns of <code>test_df</code> are:</p>\n",
       "<ul>\n",
       "<li><code>test_df['item']</code> (<code>pl.String</code>): the value of interest (see <strong>Rows</strong>)</li>\n",
       "<li><code>test_df['control_type']</code> (<code>pl.String</code>): the defect control type (see <strong>Input parameters</strong>)</li>\n",
       "<li><code>test_df['time_span']</code> (<code>pl.Int64</code>): the time window for computing the mean (see <strong>Input parameters</strong>)</li>\n",
       "<li><code>test_df['mean']</code> (<code>pl.Float64</code>): the mean of <code>test_df['item']</code> for the specified time window</li>\n",
       "</ul>\n",
       "<h4>Rows</h4>\n",
       "<p>The rows of <code>test_df['item']</code> correspond to the following values, computed as averages in <code>test_df['mean']</code> per control type in <code>test_df['control_type']</code> and time span in <code>test_df['time_span']</code>:</p>\n",
       "<ul>\n",
       "<li><code>generated_per_day</code>: the number of defects generated per day on average</li>\n",
       "<li><code>generated_per_hour</code>: the number of defects generated per hour on average</li>\n",
       "<li><code>remediated_per_day</code>: the number of defects remediated per day on average</li>\n",
       "<li><code>remediated_per_hour</code>: the number of defects remediated per hour on average</li>\n",
       "<li><code>delta_new_assign</code>: the time between the status change new --&gt; assign, i.e. the amount of time a defect is waiting in the backlog before being assigned to a remediation agent</li>\n",
       "<li><code>delta_assign_inprogress</code>: the time between the status change assign --&gt; inprogress, i.e. the amount of time an assigned defect waits before remediation work is begun by the remediation agent</li>\n",
       "<li><code>delta_inprogress_closed</code>: the time between the status change inprogrss --&gt; closed, i.e. the duration of the remediation work carried out by the remediation agent</li>\n",
       "<li><code>delta_new_closed</code>: the total time elapsed between the statuses new and closed, i.e. the total lifetime of a defect</li>\n",
       "</ul>\n",
       "<h4>Input parameters</h4>\n",
       "<p>The possible choices for <code>control_type</code> are: </p>\n",
       "<p><code>[\"ACC03\", \"ACC17\", \"ACC28\", \"AUTH18\", \"AUTH42\"]</code></p>\n",
       "<p>The possible choices for <code>time_span</code> are:</p>\n",
       "<p><code>[1, 2, 3]</code></p>\n",
       "<p>where:</p>\n",
       "<ul>\n",
       "<li><code>1</code> indicates that the column <code>test_df['mean']</code> is computed for <code>test_df['item']</code> as a <em>daily snapshot</em></li>\n",
       "<li><code>2</code> indicates that the column <code>test_df['mean']</code> is computed for <code>test_df['item']</code> as a <em>quarterly snapshot</em></li>\n",
       "<li><code>3</code> indicates that the column <code>test_df['mean']</code> is computed for <code>test_df['item']</code> <em>for all time</em></li>\n",
       "</ul>\n",
       "<h4>Methods</h4>\n",
       "<p>The method <code>fastWorkFlow_test.extractValues(control_type, time_span)</code> \n",
       "extracts only those rows from <code>info_df</code> containing <code>control_type</code> and <code>time_span</code>, returned as the json file <code>filtered_info.json</code>:</p>\n",
       "<p><code>filtered_info_df = info_df.filter(pl.col('control_type') == control_type, pl.col('time_span') == time_span)\n",
       "json</code></p>\n",
       "<p>The method <code>fastWorkFlow_test.README</code> returns this README.md file.</p>"
      ],
      "text/plain": [
       "<IPython.core.display.Markdown object>"
      ]
     },
     "metadata": {},
     "output_type": "display_data"
    }
   ],
   "source": [
    "f = open('fastWorkFlow_test.md', 'r')\n",
    "htmlmarkdown=markdown.markdown( f.read() )\n",
    "display(Markdown(htmlmarkdown))"
   ]
  },
  {
   "cell_type": "code",
   "execution_count": null,
   "id": "9eb61654-5603-4110-bb43-534328701b2b",
   "metadata": {},
   "outputs": [],
   "source": []
  }
 ],
 "metadata": {
  "kernelspec": {
   "display_name": "Python 3 (ipykernel)",
   "language": "python",
   "name": "python3"
  },
  "language_info": {
   "codemirror_mode": {
    "name": "ipython",
    "version": 3
   },
   "file_extension": ".py",
   "mimetype": "text/x-python",
   "name": "python",
   "nbconvert_exporter": "python",
   "pygments_lexer": "ipython3",
   "version": "3.12.3"
  }
 },
 "nbformat": 4,
 "nbformat_minor": 5
}
