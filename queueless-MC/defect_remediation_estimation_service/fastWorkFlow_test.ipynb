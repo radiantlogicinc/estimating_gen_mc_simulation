{
 "cells": [
  {
   "cell_type": "code",
   "execution_count": 2,
   "id": "335e4812-a94d-4c28-a762-c9671210736f",
   "metadata": {},
   "outputs": [],
   "source": [
    "import polars as pl\n",
    "# from rich.console import Console\n",
    "# from rich.markdown import Markdown\n",
    "import markdown\n",
    "from IPython.display import display, Markdown"
   ]
  },
  {
   "cell_type": "code",
   "execution_count": 3,
   "id": "266e9dc1-04ac-4d07-b57d-0b3c69f46601",
   "metadata": {},
   "outputs": [],
   "source": [
    "class fastWorkFlow_test:\n",
    "    def __init__(self, info_df):\n",
    "        self.info_df = info_df\n",
    "\n",
    "    def extractValues(self, control_type, time_span):\n",
    "        filtered_info_df = self.info_df.filter(pl.col('control_type') == control_type, pl.col('time_span') == time_span)\n",
    "        return filtered_info_df\n",
    "    \n",
    "    def README(self):\n",
    "        # console = Console()\n",
    "        # with open('fastWorkFlow_test.md') as f:\n",
    "        #     readme = Markdown( f.read() )\n",
    "        #     console.print(readme)\n",
    "        f = open('fastWorkFlow_test.md', 'r')\n",
    "        htmlmarkdown=markdown.markdown( f.read() )\n",
    "        display(Markdown(htmlmarkdown))"
   ]
  },
  {
   "cell_type": "code",
   "execution_count": 4,
   "id": "697f4b9a-310a-4c28-a898-4e5930ef45a0",
   "metadata": {},
   "outputs": [
    {
     "data": {
      "text/html": [
       "<div><style>\n",
       ".dataframe > thead > tr,\n",
       ".dataframe > tbody > tr {\n",
       "  text-align: right;\n",
       "  white-space: pre-wrap;\n",
       "}\n",
       "</style>\n",
       "<small>shape: (120, 4)</small><table border=\"1\" class=\"dataframe\"><thead><tr><th>item</th><th>control_type</th><th>time_span</th><th>mean</th></tr><tr><td>str</td><td>str</td><td>i64</td><td>f64</td></tr></thead><tbody><tr><td>&quot;generated_per_day_ACC03_1&quot;</td><td>&quot;ACC03&quot;</td><td>1</td><td>2.5</td></tr><tr><td>&quot;generated_per_day_ACC03_2&quot;</td><td>&quot;ACC03&quot;</td><td>2</td><td>2.0</td></tr><tr><td>&quot;generated_per_day_ACC03_3&quot;</td><td>&quot;ACC03&quot;</td><td>3</td><td>3.0</td></tr><tr><td>&quot;generated_per_day_ACC17_1&quot;</td><td>&quot;ACC17&quot;</td><td>1</td><td>2.33</td></tr><tr><td>&quot;generated_per_day_ACC17_2&quot;</td><td>&quot;ACC17&quot;</td><td>2</td><td>2.7</td></tr><tr><td>&hellip;</td><td>&hellip;</td><td>&hellip;</td><td>&hellip;</td></tr><tr><td>&quot;delta_new_closed_AUTH18_2&quot;</td><td>&quot;AUTH18&quot;</td><td>2</td><td>24.244</td></tr><tr><td>&quot;delta_new_closed_AUTH18_3&quot;</td><td>&quot;AUTH18&quot;</td><td>3</td><td>26.379</td></tr><tr><td>&quot;delta_new_closed_AUTH42_1&quot;</td><td>&quot;AUTH42&quot;</td><td>1</td><td>73.218</td></tr><tr><td>&quot;delta_new_closed_AUTH42_2&quot;</td><td>&quot;AUTH42&quot;</td><td>2</td><td>68.057</td></tr><tr><td>&quot;delta_new_closed_AUTH42_3&quot;</td><td>&quot;AUTH42&quot;</td><td>3</td><td>62.261</td></tr></tbody></table></div>"
      ],
      "text/plain": [
       "shape: (120, 4)\n",
       "┌───────────────────────────┬──────────────┬───────────┬────────┐\n",
       "│ item                      ┆ control_type ┆ time_span ┆ mean   │\n",
       "│ ---                       ┆ ---          ┆ ---       ┆ ---    │\n",
       "│ str                       ┆ str          ┆ i64       ┆ f64    │\n",
       "╞═══════════════════════════╪══════════════╪═══════════╪════════╡\n",
       "│ generated_per_day_ACC03_1 ┆ ACC03        ┆ 1         ┆ 2.5    │\n",
       "│ generated_per_day_ACC03_2 ┆ ACC03        ┆ 2         ┆ 2.0    │\n",
       "│ generated_per_day_ACC03_3 ┆ ACC03        ┆ 3         ┆ 3.0    │\n",
       "│ generated_per_day_ACC17_1 ┆ ACC17        ┆ 1         ┆ 2.33   │\n",
       "│ generated_per_day_ACC17_2 ┆ ACC17        ┆ 2         ┆ 2.7    │\n",
       "│ …                         ┆ …            ┆ …         ┆ …      │\n",
       "│ delta_new_closed_AUTH18_2 ┆ AUTH18       ┆ 2         ┆ 24.244 │\n",
       "│ delta_new_closed_AUTH18_3 ┆ AUTH18       ┆ 3         ┆ 26.379 │\n",
       "│ delta_new_closed_AUTH42_1 ┆ AUTH42       ┆ 1         ┆ 73.218 │\n",
       "│ delta_new_closed_AUTH42_2 ┆ AUTH42       ┆ 2         ┆ 68.057 │\n",
       "│ delta_new_closed_AUTH42_3 ┆ AUTH42       ┆ 3         ┆ 62.261 │\n",
       "└───────────────────────────┴──────────────┴───────────┴────────┘"
      ]
     },
     "execution_count": 4,
     "metadata": {},
     "output_type": "execute_result"
    }
   ],
   "source": [
    "test_df = pl.read_json('fastWorkFlow_test_v2.json', schema={\"item\":pl.String, \"control_type\":pl.String, \"time_span\":pl.String, \"mean\":pl.String})\n",
    "test_df = test_df.with_columns(pl.col('time_span').cast(pl.Int64).alias('time_span'))\n",
    "test_df = test_df.with_columns(pl.col('mean').cast(pl.Float64).alias('mean'))\n",
    "test_df"
   ]
  },
  {
   "cell_type": "code",
   "execution_count": null,
   "id": "b0e9f608-7a8f-4ea2-a027-74250839a732",
   "metadata": {},
   "outputs": [
    {
     "data": {
      "text/markdown": [
       "<h4>Intro</h4>\n",
       "<p><code>fastWorkFlow_test</code> is a class designed to enable interfacing with fastWorkFlow. \n",
       "The goal of <code>fastWorkFlow_test</code> is to filter the polars DataFrame <code>test_df</code> for values corresponding only to the given parameters <code>control_type</code> and <code>time_span</code>.</p>\n",
       "<h4>Columns</h4>\n",
       "<p>The columns of <code>test_df</code> are:</p>\n",
       "<ul>\n",
       "<li><code>test_df['item']</code> (<code>pl.String</code>): the value of interest (see <strong>Rows</strong>)</li>\n",
       "<li><code>test_df['control_type']</code> (<code>pl.String</code>): the defect control type (see <strong>Input parameters</strong>)</li>\n",
       "<li><code>test_df['time_span']</code> (<code>pl.Int64</code>): the time window for computing the mean (see <strong>Input parameters</strong>)</li>\n",
       "<li><code>test_df['mean']</code> (<code>pl.Float64</code>): the mean of <code>test_df['item']</code> for the specified time window</li>\n",
       "</ul>\n",
       "<h4>Rows</h4>\n",
       "<p>The rows of <code>test_df['item']</code> correspond to the following values, computed as averages in <code>test_df['mean']</code> per control type in <code>test_df['control_type']</code> and time span in <code>test_df['time_span']</code>:</p>\n",
       "<ul>\n",
       "<li><code>generated_per_day</code>: the number of defects generated per day on average</li>\n",
       "<li><code>generated_per_hour</code>: the number of defects generated per hour on average</li>\n",
       "<li><code>remediated_per_day</code>: the number of defects remediated per day on average</li>\n",
       "<li><code>remediated_per_hour</code>: the number of defects remediated per hour on average</li>\n",
       "<li><code>delta_new_assign</code>: the time between the status change new --&gt; assign, i.e. the amount of time a defect is waiting in the backlog before being assigned to a remediation agent</li>\n",
       "<li><code>delta_assign_inprogress</code>: the time between the status change assign --&gt; inprogress, i.e. the amount of time an assigned defect waits before remediation work is begun by the remediation agent</li>\n",
       "<li><code>delta_inprogress_closed</code>: the time between the status change inprogrss --&gt; closed, i.e. the duration of the remediation work carried out by the remediation agent</li>\n",
       "<li><code>delta_new_closed</code>: the total time elapsed between the statuses new and closed, i.e. the total lifetime of a defect</li>\n",
       "</ul>\n",
       "<h4>Input parameters</h4>\n",
       "<p>The possible choices for <code>control_type</code> are: </p>\n",
       "<p><code>[\"ACC03\", \"ACC17\", \"ACC28\", \"AUTH18\", \"AUTH42\"]</code></p>\n",
       "<p>The possible choices for <code>time_span</code> are:</p>\n",
       "<p><code>[1, 2, 3]</code></p>\n",
       "<p>where:</p>\n",
       "<ul>\n",
       "<li><code>1</code> indicates that the column <code>test_df['mean']</code> is computed for <code>test_df['item']</code> as a <em>daily snapshot</em></li>\n",
       "<li><code>2</code> indicates that the column <code>test_df['mean']</code> is computed for <code>test_df['item']</code> as a <em>quarterly snapshot</em></li>\n",
       "<li><code>3</code> indicates that the column <code>test_df['mean']</code> is computed for <code>test_df['item']</code> <em>for all time</em></li>\n",
       "</ul>\n",
       "<h4>Methods</h4>\n",
       "<p>The method <code>fastWorkFlow_test.extractValues(control_type, time_span)</code> \n",
       "extracts only those rows from <code>info_df</code> containing <code>control_type</code> and <code>time_span</code>, returned as the json file <code>filtered_info.json</code>:</p>\n",
       "<p><code>filtered_info_df = info_df.filter(pl.col('control_type') == control_type, pl.col('time_span') == time_span)\n",
       "json</code></p>\n",
       "<p>The method <code>fastWorkFlow_test.README</code> returns this README.md file.</p>"
      ],
      "text/plain": [
       "<IPython.core.display.Markdown object>"
      ]
     },
     "metadata": {},
     "output_type": "display_data"
    }
   ],
   "source": [
    "instance = fastWorkFlow_test(test_df)\n",
    "instance.README()\n",
    "\n",
    "control_type = input('Select control type from: [\"ACC03\", \"ACC17\", \"ACC28\", \"AUTH18\", \"AUTH42\"]')\n",
    "time_span = int(input('Select time window from: [1, 2, 3]'))\n",
    "\n",
    "filtered_info_df = instance.extractValues(control_type, time_span)\n",
    "filtered_info_df"
   ]
  },
  {
   "cell_type": "code",
   "execution_count": 2,
   "id": "53fb6563-8d7f-44bf-a9ce-0c3418e2e8e6",
   "metadata": {
    "scrolled": true
   },
   "outputs": [],
   "source": [
    "# f = open('fastWorkFlow_test.md', 'r')\n",
    "# htmlmarkdown=markdown.markdown( f.read() )\n",
    "# display(Markdown(htmlmarkdown))"
   ]
  },
  {
   "cell_type": "code",
   "execution_count": null,
   "id": "61b20a7f-138f-4237-bd10-62b604ad2a8c",
   "metadata": {},
   "outputs": [],
   "source": []
  }
 ],
 "metadata": {
  "kernelspec": {
   "display_name": "Python 3 (ipykernel)",
   "language": "python",
   "name": "python3"
  },
  "language_info": {
   "codemirror_mode": {
    "name": "ipython",
    "version": 3
   },
   "file_extension": ".py",
   "mimetype": "text/x-python",
   "name": "python",
   "nbconvert_exporter": "python",
   "pygments_lexer": "ipython3",
   "version": "3.12.3"
  }
 },
 "nbformat": 4,
 "nbformat_minor": 5
}
