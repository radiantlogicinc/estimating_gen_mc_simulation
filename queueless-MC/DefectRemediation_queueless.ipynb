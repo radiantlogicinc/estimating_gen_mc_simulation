{
 "cells": [
  {
   "cell_type": "code",
   "execution_count": 1,
   "id": "9d5d53dc-002f-46e1-a924-00b054b8b9c4",
   "metadata": {},
   "outputs": [],
   "source": [
    "import statistics\n",
    "import time\n",
    "import matplotlib.pyplot as plt\n",
    "import numpy as np\n",
    "from scipy.stats import skewnorm\n",
    "import pandas as pd\n",
    "# from matplotlib.collections import PatchCollection\n",
    "# from matplotlib.patches import Rectangle\n",
    "# from matplotlib.markers import MarkerStyle"
   ]
  },
  {
   "cell_type": "code",
   "execution_count": 6,
   "id": "19907f12-e8d3-4626-b056-10c1a4c402cf",
   "metadata": {},
   "outputs": [
    {
     "data": {
      "text/html": [
       "<div>\n",
       "<style scoped>\n",
       "    .dataframe tbody tr th:only-of-type {\n",
       "        vertical-align: middle;\n",
       "    }\n",
       "\n",
       "    .dataframe tbody tr th {\n",
       "        vertical-align: top;\n",
       "    }\n",
       "\n",
       "    .dataframe thead th {\n",
       "        text-align: right;\n",
       "    }\n",
       "</style>\n",
       "<table border=\"1\" class=\"dataframe\">\n",
       "  <thead>\n",
       "    <tr style=\"text-align: right;\">\n",
       "      <th></th>\n",
       "      <th>Defect_ID</th>\n",
       "      <th>Control_Type</th>\n",
       "      <th>State</th>\n",
       "      <th>Timestamp</th>\n",
       "    </tr>\n",
       "    <tr>\n",
       "      <th>ID</th>\n",
       "      <th></th>\n",
       "      <th></th>\n",
       "      <th></th>\n",
       "      <th></th>\n",
       "    </tr>\n",
       "  </thead>\n",
       "  <tbody>\n",
       "    <tr>\n",
       "      <th>1</th>\n",
       "      <td>1</td>\n",
       "      <td>ACC03</td>\n",
       "      <td>new</td>\n",
       "      <td>0:05:31</td>\n",
       "    </tr>\n",
       "    <tr>\n",
       "      <th>2</th>\n",
       "      <td>2</td>\n",
       "      <td>ACC17</td>\n",
       "      <td>new</td>\n",
       "      <td>0:12:42</td>\n",
       "    </tr>\n",
       "    <tr>\n",
       "      <th>3</th>\n",
       "      <td>3</td>\n",
       "      <td>ACC28</td>\n",
       "      <td>new</td>\n",
       "      <td>0:13:44</td>\n",
       "    </tr>\n",
       "    <tr>\n",
       "      <th>4</th>\n",
       "      <td>1</td>\n",
       "      <td>ACC03</td>\n",
       "      <td>assign</td>\n",
       "      <td>0:18:57</td>\n",
       "    </tr>\n",
       "    <tr>\n",
       "      <th>5</th>\n",
       "      <td>1</td>\n",
       "      <td>ACC03</td>\n",
       "      <td>in-progress</td>\n",
       "      <td>0:22:43</td>\n",
       "    </tr>\n",
       "    <tr>\n",
       "      <th>6</th>\n",
       "      <td>1</td>\n",
       "      <td>ACC03</td>\n",
       "      <td>closed</td>\n",
       "      <td>0:34:56</td>\n",
       "    </tr>\n",
       "    <tr>\n",
       "      <th>7</th>\n",
       "      <td>2</td>\n",
       "      <td>ACC17</td>\n",
       "      <td>assign</td>\n",
       "      <td>0:42:45</td>\n",
       "    </tr>\n",
       "    <tr>\n",
       "      <th>8</th>\n",
       "      <td>4</td>\n",
       "      <td>AUTH18</td>\n",
       "      <td>new</td>\n",
       "      <td>1:02:12</td>\n",
       "    </tr>\n",
       "    <tr>\n",
       "      <th>9</th>\n",
       "      <td>2</td>\n",
       "      <td>ACC17</td>\n",
       "      <td>in-progress</td>\n",
       "      <td>1:12:56</td>\n",
       "    </tr>\n",
       "    <tr>\n",
       "      <th>10</th>\n",
       "      <td>3</td>\n",
       "      <td>ACC28</td>\n",
       "      <td>assign</td>\n",
       "      <td>1:43:43</td>\n",
       "    </tr>\n",
       "    <tr>\n",
       "      <th>11</th>\n",
       "      <td>2</td>\n",
       "      <td>ACC17</td>\n",
       "      <td>closed</td>\n",
       "      <td>1:59:42</td>\n",
       "    </tr>\n",
       "    <tr>\n",
       "      <th>12</th>\n",
       "      <td>4</td>\n",
       "      <td>AUTH18</td>\n",
       "      <td>assign</td>\n",
       "      <td>2:04:34</td>\n",
       "    </tr>\n",
       "    <tr>\n",
       "      <th>13</th>\n",
       "      <td>5</td>\n",
       "      <td>ACC03</td>\n",
       "      <td>new</td>\n",
       "      <td>2:15:16</td>\n",
       "    </tr>\n",
       "    <tr>\n",
       "      <th>14</th>\n",
       "      <td>4</td>\n",
       "      <td>AUTH18</td>\n",
       "      <td>in-progress</td>\n",
       "      <td>2:18:17</td>\n",
       "    </tr>\n",
       "    <tr>\n",
       "      <th>15</th>\n",
       "      <td>6</td>\n",
       "      <td>AUTH42</td>\n",
       "      <td>new</td>\n",
       "      <td>2:22:34</td>\n",
       "    </tr>\n",
       "    <tr>\n",
       "      <th>16</th>\n",
       "      <td>6</td>\n",
       "      <td>AUTH42</td>\n",
       "      <td>assign</td>\n",
       "      <td>2:45:16</td>\n",
       "    </tr>\n",
       "    <tr>\n",
       "      <th>17</th>\n",
       "      <td>6</td>\n",
       "      <td>AUTH42</td>\n",
       "      <td>in-progress</td>\n",
       "      <td>2:47:00</td>\n",
       "    </tr>\n",
       "    <tr>\n",
       "      <th>18</th>\n",
       "      <td>6</td>\n",
       "      <td>AUTH42</td>\n",
       "      <td>closed</td>\n",
       "      <td>2:52:32</td>\n",
       "    </tr>\n",
       "    <tr>\n",
       "      <th>19</th>\n",
       "      <td>5</td>\n",
       "      <td>ACC03</td>\n",
       "      <td>assign</td>\n",
       "      <td>3:05:57</td>\n",
       "    </tr>\n",
       "    <tr>\n",
       "      <th>20</th>\n",
       "      <td>7</td>\n",
       "      <td>ACC17</td>\n",
       "      <td>new</td>\n",
       "      <td>3:13:49</td>\n",
       "    </tr>\n",
       "    <tr>\n",
       "      <th>21</th>\n",
       "      <td>3</td>\n",
       "      <td>ACC28</td>\n",
       "      <td>in-progress</td>\n",
       "      <td>3:19:20</td>\n",
       "    </tr>\n",
       "    <tr>\n",
       "      <th>22</th>\n",
       "      <td>5</td>\n",
       "      <td>ACC03</td>\n",
       "      <td>in-progress</td>\n",
       "      <td>3:33:54</td>\n",
       "    </tr>\n",
       "    <tr>\n",
       "      <th>23</th>\n",
       "      <td>4</td>\n",
       "      <td>AUTH18</td>\n",
       "      <td>closed</td>\n",
       "      <td>3:54:27</td>\n",
       "    </tr>\n",
       "    <tr>\n",
       "      <th>24</th>\n",
       "      <td>5</td>\n",
       "      <td>ACC03</td>\n",
       "      <td>closed</td>\n",
       "      <td>4:17:45</td>\n",
       "    </tr>\n",
       "    <tr>\n",
       "      <th>25</th>\n",
       "      <td>3</td>\n",
       "      <td>ACC28</td>\n",
       "      <td>closed</td>\n",
       "      <td>4:23:20</td>\n",
       "    </tr>\n",
       "    <tr>\n",
       "      <th>26</th>\n",
       "      <td>7</td>\n",
       "      <td>ACC17</td>\n",
       "      <td>assign</td>\n",
       "      <td>4:49:38</td>\n",
       "    </tr>\n",
       "    <tr>\n",
       "      <th>27</th>\n",
       "      <td>7</td>\n",
       "      <td>ACC17</td>\n",
       "      <td>in-progress</td>\n",
       "      <td>4:52:47</td>\n",
       "    </tr>\n",
       "    <tr>\n",
       "      <th>28</th>\n",
       "      <td>7</td>\n",
       "      <td>ACC17</td>\n",
       "      <td>closed</td>\n",
       "      <td>4:55:35</td>\n",
       "    </tr>\n",
       "  </tbody>\n",
       "</table>\n",
       "</div>"
      ],
      "text/plain": [
       "    Defect_ID Control_Type        State Timestamp\n",
       "ID                                               \n",
       "1           1        ACC03          new   0:05:31\n",
       "2           2        ACC17          new   0:12:42\n",
       "3           3        ACC28          new   0:13:44\n",
       "4           1        ACC03       assign   0:18:57\n",
       "5           1        ACC03  in-progress   0:22:43\n",
       "6           1        ACC03       closed   0:34:56\n",
       "7           2        ACC17       assign   0:42:45\n",
       "8           4       AUTH18          new   1:02:12\n",
       "9           2        ACC17  in-progress   1:12:56\n",
       "10          3        ACC28       assign   1:43:43\n",
       "11          2        ACC17       closed   1:59:42\n",
       "12          4       AUTH18       assign   2:04:34\n",
       "13          5        ACC03          new   2:15:16\n",
       "14          4       AUTH18  in-progress   2:18:17\n",
       "15          6       AUTH42          new   2:22:34\n",
       "16          6       AUTH42       assign   2:45:16\n",
       "17          6       AUTH42  in-progress   2:47:00\n",
       "18          6       AUTH42       closed   2:52:32\n",
       "19          5        ACC03       assign   3:05:57\n",
       "20          7        ACC17          new   3:13:49\n",
       "21          3        ACC28  in-progress   3:19:20\n",
       "22          5        ACC03  in-progress   3:33:54\n",
       "23          4       AUTH18       closed   3:54:27\n",
       "24          5        ACC03       closed   4:17:45\n",
       "25          3        ACC28       closed   4:23:20\n",
       "26          7        ACC17       assign   4:49:38\n",
       "27          7        ACC17  in-progress   4:52:47\n",
       "28          7        ACC17       closed   4:55:35"
      ]
     },
     "execution_count": 6,
     "metadata": {},
     "output_type": "execute_result"
    }
   ],
   "source": [
    "logs_df = pd.read_csv('defectRemediation_log_simulation_vPrototype.csv', index_col='ID')\n",
    "logs_df"
   ]
  },
  {
   "cell_type": "code",
   "execution_count": 7,
   "id": "fd584850-9343-4ee9-b189-1e6d458409c6",
   "metadata": {},
   "outputs": [],
   "source": [
    "logs_df['Timestamp'] = pd.to_datetime(logs_df['Timestamp'], format='%H:%M:%S')"
   ]
  },
  {
   "cell_type": "code",
   "execution_count": 46,
   "id": "583d44b8-ac1e-4ada-a7f5-5686de7ceda4",
   "metadata": {},
   "outputs": [
    {
     "data": {
      "text/plain": [
       "Timedelta('0 days 00:07:11')"
      ]
     },
     "execution_count": 46,
     "metadata": {},
     "output_type": "execute_result"
    }
   ],
   "source": [
    "time = (logs_df.loc[2]['Timestamp'] - logs_df.loc[1]['Timestamp'])\n",
    "round(time.total_seconds()/3600, 3)\n",
    "time"
   ]
  },
  {
   "cell_type": "code",
   "execution_count": 23,
   "id": "c2067c90-2a62-44e0-81c2-ad0a3f12b6fd",
   "metadata": {},
   "outputs": [
    {
     "data": {
      "text/plain": [
       "array([1, 2, 3, 4, 5, 6, 7], dtype=int64)"
      ]
     },
     "execution_count": 23,
     "metadata": {},
     "output_type": "execute_result"
    }
   ],
   "source": [
    "logs_df['Defect_ID'].unique()"
   ]
  },
  {
   "cell_type": "code",
   "execution_count": 55,
   "id": "1d0f7e86-e5f4-4907-893a-83ca6b1b0b2e",
   "metadata": {},
   "outputs": [
    {
     "data": {
      "text/html": [
       "<div>\n",
       "<style scoped>\n",
       "    .dataframe tbody tr th:only-of-type {\n",
       "        vertical-align: middle;\n",
       "    }\n",
       "\n",
       "    .dataframe tbody tr th {\n",
       "        vertical-align: top;\n",
       "    }\n",
       "\n",
       "    .dataframe thead th {\n",
       "        text-align: right;\n",
       "    }\n",
       "</style>\n",
       "<table border=\"1\" class=\"dataframe\">\n",
       "  <thead>\n",
       "    <tr style=\"text-align: right;\">\n",
       "      <th></th>\n",
       "      <th>Defect_ID</th>\n",
       "      <th>Control_Type</th>\n",
       "      <th>Delta_New_Assign</th>\n",
       "      <th>Delta_Assign_InProgress</th>\n",
       "      <th>Delta_InProgress_Closed</th>\n",
       "    </tr>\n",
       "  </thead>\n",
       "  <tbody>\n",
       "  </tbody>\n",
       "</table>\n",
       "</div>"
      ],
      "text/plain": [
       "Empty DataFrame\n",
       "Columns: [Defect_ID, Control_Type, Delta_New_Assign, Delta_Assign_InProgress, Delta_InProgress_Closed]\n",
       "Index: []"
      ]
     },
     "execution_count": 55,
     "metadata": {},
     "output_type": "execute_result"
    }
   ],
   "source": [
    "df = pd.DataFrame(columns=['Defect_ID','Control_Type','Delta_New_Assign','Delta_Assign_InProgress','Delta_InProgress_Closed'])\n",
    "df"
   ]
  },
  {
   "cell_type": "code",
   "execution_count": 58,
   "id": "d58ce911-2d71-4f82-90a0-1ddb5ebad294",
   "metadata": {},
   "outputs": [
    {
     "name": "stdout",
     "output_type": "stream",
     "text": [
      "1\n",
      "2\n",
      "3\n",
      "4\n",
      "5\n",
      "6\n",
      "7\n"
     ]
    }
   ],
   "source": [
    "for defect_id in logs_df['Defect_ID'].unique():\n",
    "    print(defect_id)"
   ]
  },
  {
   "cell_type": "code",
   "execution_count": 45,
   "id": "44778367-7bf3-4473-86ef-eca56c7c8bd5",
   "metadata": {},
   "outputs": [
    {
     "data": {
      "text/plain": [
       "ID\n",
       "1   1900-01-01 00:05:31\n",
       "Name: Timestamp, dtype: datetime64[ns]"
      ]
     },
     "execution_count": 45,
     "metadata": {},
     "output_type": "execute_result"
    }
   ],
   "source": [
    "logs_df.loc[(logs_df['Defect_ID']==1) & (logs_df['State']=='new')]['Timestamp']"
   ]
  },
  {
   "cell_type": "code",
   "execution_count": 53,
   "id": "9788698f-1c1c-44ec-9bc7-ee642218c3f6",
   "metadata": {},
   "outputs": [
    {
     "data": {
      "text/plain": [
       "'ACC03'"
      ]
     },
     "execution_count": 53,
     "metadata": {},
     "output_type": "execute_result"
    }
   ],
   "source": [
    "logs_df.loc[logs_df['Defect_ID']==1].iloc[0]['Control_Type']"
   ]
  },
  {
   "cell_type": "code",
   "execution_count": 66,
   "id": "7aa52d20-26ea-46da-bf36-777177564887",
   "metadata": {},
   "outputs": [
    {
     "data": {
      "text/plain": [
       "ID\n",
       "26   1900-01-01 04:49:38\n",
       "Name: Timestamp, dtype: datetime64[ns]"
      ]
     },
     "execution_count": 66,
     "metadata": {},
     "output_type": "execute_result"
    }
   ],
   "source": [
    "timestamp_new = logs_df.loc[(logs_df['Defect_ID']==1) & (logs_df['State']=='new')]['Timestamp']\n",
    "timestamp_assign = logs_df.loc[(logs_df['Defect_ID']==defect_id) & (logs_df['State']=='assign')]['Timestamp']\n",
    "delta_new_assign = timestamp_assign - timestamp_new\n",
    "timestamp_assign"
   ]
  },
  {
   "cell_type": "code",
   "execution_count": 56,
   "id": "b8827b97-9587-401e-a8e6-f48c7cfa0b6b",
   "metadata": {},
   "outputs": [
    {
     "ename": "AttributeError",
     "evalue": "'Series' object has no attribute 'total_seconds'",
     "output_type": "error",
     "traceback": [
      "\u001b[1;31m---------------------------------------------------------------------------\u001b[0m",
      "\u001b[1;31mAttributeError\u001b[0m                            Traceback (most recent call last)",
      "\u001b[1;32m~\\AppData\\Local\\Temp\\ipykernel_21360\\1660896135.py\u001b[0m in \u001b[0;36m?\u001b[1;34m()\u001b[0m\n\u001b[0;32m     13\u001b[0m     \u001b[0mtimestamp_closed\u001b[0m \u001b[1;33m=\u001b[0m \u001b[0mlogs_df\u001b[0m\u001b[1;33m.\u001b[0m\u001b[0mloc\u001b[0m\u001b[1;33m[\u001b[0m\u001b[1;33m(\u001b[0m\u001b[0mlogs_df\u001b[0m\u001b[1;33m[\u001b[0m\u001b[1;34m'Defect_ID'\u001b[0m\u001b[1;33m]\u001b[0m\u001b[1;33m==\u001b[0m\u001b[0mdefect_id\u001b[0m\u001b[1;33m)\u001b[0m \u001b[1;33m&\u001b[0m \u001b[1;33m(\u001b[0m\u001b[0mlogs_df\u001b[0m\u001b[1;33m[\u001b[0m\u001b[1;34m'State'\u001b[0m\u001b[1;33m]\u001b[0m\u001b[1;33m==\u001b[0m\u001b[1;34m'closed'\u001b[0m\u001b[1;33m)\u001b[0m\u001b[1;33m]\u001b[0m\u001b[1;33m[\u001b[0m\u001b[1;34m'Timestamp'\u001b[0m\u001b[1;33m]\u001b[0m\u001b[1;33m\u001b[0m\u001b[1;33m\u001b[0m\u001b[0m\n\u001b[0;32m     14\u001b[0m \u001b[1;33m\u001b[0m\u001b[0m\n\u001b[0;32m     15\u001b[0m     \u001b[1;31m# time between assign and new (hrs)\u001b[0m\u001b[1;33m\u001b[0m\u001b[1;33m\u001b[0m\u001b[0m\n\u001b[0;32m     16\u001b[0m     \u001b[0mdelta_new_assign\u001b[0m \u001b[1;33m=\u001b[0m \u001b[0mtimestamp_assign\u001b[0m \u001b[1;33m-\u001b[0m \u001b[0mtimestamp_new\u001b[0m\u001b[1;33m\u001b[0m\u001b[1;33m\u001b[0m\u001b[0m\n\u001b[1;32m---> 17\u001b[1;33m     \u001b[0mdelta_new_assign\u001b[0m \u001b[1;33m=\u001b[0m \u001b[0mround\u001b[0m\u001b[1;33m(\u001b[0m\u001b[0mdelta_new_assign\u001b[0m\u001b[1;33m.\u001b[0m\u001b[0mtotal_seconds\u001b[0m\u001b[1;33m(\u001b[0m\u001b[1;33m)\u001b[0m\u001b[1;33m/\u001b[0m\u001b[1;36m3600\u001b[0m\u001b[1;33m,\u001b[0m \u001b[1;36m3\u001b[0m\u001b[1;33m)\u001b[0m\u001b[1;33m\u001b[0m\u001b[1;33m\u001b[0m\u001b[0m\n\u001b[0m\u001b[0;32m     18\u001b[0m \u001b[1;33m\u001b[0m\u001b[0m\n\u001b[0;32m     19\u001b[0m     \u001b[1;31m# time between in-progress and assign (hrs)\u001b[0m\u001b[1;33m\u001b[0m\u001b[1;33m\u001b[0m\u001b[0m\n\u001b[0;32m     20\u001b[0m     \u001b[0mdelta_assign_inprogress\u001b[0m \u001b[1;33m=\u001b[0m \u001b[0mtimestep_inprogress\u001b[0m \u001b[1;33m-\u001b[0m \u001b[0mtimestep_assign\u001b[0m\u001b[1;33m\u001b[0m\u001b[1;33m\u001b[0m\u001b[0m\n",
      "\u001b[1;32m~\\AppData\\Local\\Programs\\Python\\Python312\\Lib\\site-packages\\pandas\\core\\generic.py\u001b[0m in \u001b[0;36m?\u001b[1;34m(self, name)\u001b[0m\n\u001b[0;32m   6295\u001b[0m             \u001b[1;32mand\u001b[0m \u001b[0mname\u001b[0m \u001b[1;32mnot\u001b[0m \u001b[1;32min\u001b[0m \u001b[0mself\u001b[0m\u001b[1;33m.\u001b[0m\u001b[0m_accessors\u001b[0m\u001b[1;33m\u001b[0m\u001b[1;33m\u001b[0m\u001b[0m\n\u001b[0;32m   6296\u001b[0m             \u001b[1;32mand\u001b[0m \u001b[0mself\u001b[0m\u001b[1;33m.\u001b[0m\u001b[0m_info_axis\u001b[0m\u001b[1;33m.\u001b[0m\u001b[0m_can_hold_identifiers_and_holds_name\u001b[0m\u001b[1;33m(\u001b[0m\u001b[0mname\u001b[0m\u001b[1;33m)\u001b[0m\u001b[1;33m\u001b[0m\u001b[1;33m\u001b[0m\u001b[0m\n\u001b[0;32m   6297\u001b[0m         \u001b[1;33m)\u001b[0m\u001b[1;33m:\u001b[0m\u001b[1;33m\u001b[0m\u001b[1;33m\u001b[0m\u001b[0m\n\u001b[0;32m   6298\u001b[0m             \u001b[1;32mreturn\u001b[0m \u001b[0mself\u001b[0m\u001b[1;33m[\u001b[0m\u001b[0mname\u001b[0m\u001b[1;33m]\u001b[0m\u001b[1;33m\u001b[0m\u001b[1;33m\u001b[0m\u001b[0m\n\u001b[1;32m-> 6299\u001b[1;33m         \u001b[1;32mreturn\u001b[0m \u001b[0mobject\u001b[0m\u001b[1;33m.\u001b[0m\u001b[0m__getattribute__\u001b[0m\u001b[1;33m(\u001b[0m\u001b[0mself\u001b[0m\u001b[1;33m,\u001b[0m \u001b[0mname\u001b[0m\u001b[1;33m)\u001b[0m\u001b[1;33m\u001b[0m\u001b[1;33m\u001b[0m\u001b[0m\n\u001b[0m",
      "\u001b[1;31mAttributeError\u001b[0m: 'Series' object has no attribute 'total_seconds'"
     ]
    }
   ],
   "source": [
    "try:\n",
    "    Last_ID_processed = df.index[-1]\n",
    "    index = Last_ID_processed + 1\n",
    "except IndexError: # df is empty\n",
    "    index = 0 \n",
    "\n",
    "\n",
    "for defect_id in logs_df['Defect_ID'].unique():\n",
    "    #### Recover timestamps for each state change ####\n",
    "    timestamp_new = logs_df.loc[(logs_df['Defect_ID']==defect_id) & (logs_df['State']=='new')]['Timestamp']\n",
    "    timestamp_assign = logs_df.loc[(logs_df['Defect_ID']==defect_id) & (logs_df['State']=='assign')]['Timestamp']\n",
    "    timestamp_inprogress = logs_df.loc[(logs_df['Defect_ID']==defect_id) & (logs_df['State']=='in-progress')]['Timestamp']\n",
    "    timestamp_closed = logs_df.loc[(logs_df['Defect_ID']==defect_id) & (logs_df['State']=='closed')]['Timestamp']\n",
    "\n",
    "    # time between assign and new (hrs)\n",
    "    delta_new_assign = timestamp_assign - timestamp_new\n",
    "    delta_new_assign = round(delta_new_assign.total_seconds()/3600, 3)\n",
    "    \n",
    "    # time between in-progress and assign (hrs)\n",
    "    delta_assign_inprogress = timestep_inprogress - timestep_assign\n",
    "    delta_assign_inprogress = round(delta_assign_inprogress.total_seconds()/3600, 3)\n",
    "    \n",
    "    # time between closed and in-progress (hrs)\n",
    "    delta_inprogress_closed = timestep_closed - timestep_inprogress\n",
    "    delta_inprogress_closed = round(delta_inprogress_closed.total_seconds()/3600, 3)\n",
    "\n",
    "    # append row to df\n",
    "    control_type = logs_df.loc[logs_df['Defect_ID'] == defect_id].iloc[0]['Control_Type']\n",
    "    df[index] = [defect_id, control_type, delta_new_assign, delta_assign_inprogress, delta_inprogress_closed]\n",
    "    # df['Defect_ID'] = defect_id\n",
    "    # df['Control_Type'] = logs_df.loc[logs_df['Defect_ID']==defect_id]['Control_Type'].unique()\n",
    "    # logs_df.loc[(logs_df['Defect_ID']==1) & (logs_df['State']=='new')]"
   ]
  },
  {
   "cell_type": "code",
   "execution_count": 33,
   "id": "c7606a09-735d-448d-bd6b-9047a5679b05",
   "metadata": {},
   "outputs": [
    {
     "data": {
      "text/plain": [
       "array(['ACC03'], dtype=object)"
      ]
     },
     "execution_count": 33,
     "metadata": {},
     "output_type": "execute_result"
    }
   ],
   "source": [
    "logs_df.loc[logs_df['Defect_ID']==1]['Control_Type'].unique()"
   ]
  },
  {
   "cell_type": "code",
   "execution_count": 42,
   "id": "b66ab2dc-441c-4931-baec-83a4d982924a",
   "metadata": {},
   "outputs": [
    {
     "data": {
      "text/html": [
       "<div>\n",
       "<style scoped>\n",
       "    .dataframe tbody tr th:only-of-type {\n",
       "        vertical-align: middle;\n",
       "    }\n",
       "\n",
       "    .dataframe tbody tr th {\n",
       "        vertical-align: top;\n",
       "    }\n",
       "\n",
       "    .dataframe thead th {\n",
       "        text-align: right;\n",
       "    }\n",
       "</style>\n",
       "<table border=\"1\" class=\"dataframe\">\n",
       "  <thead>\n",
       "    <tr style=\"text-align: right;\">\n",
       "      <th></th>\n",
       "      <th>Defect_ID</th>\n",
       "      <th>Control_Type</th>\n",
       "      <th>Delta_New_Assign</th>\n",
       "      <th>Delta_Assign_InProgress</th>\n",
       "      <th>Delta_InProgress_Closed</th>\n",
       "    </tr>\n",
       "  </thead>\n",
       "  <tbody>\n",
       "  </tbody>\n",
       "</table>\n",
       "</div>"
      ],
      "text/plain": [
       "Empty DataFrame\n",
       "Columns: [Defect_ID, Control_Type, Delta_New_Assign, Delta_Assign_InProgress, Delta_InProgress_Closed]\n",
       "Index: []"
      ]
     },
     "execution_count": 42,
     "metadata": {},
     "output_type": "execute_result"
    }
   ],
   "source": [
    "df"
   ]
  },
  {
   "cell_type": "code",
   "execution_count": 37,
   "id": "601c76c8-1bd8-4975-8845-2332ef437e37",
   "metadata": {},
   "outputs": [
    {
     "data": {
      "text/plain": [
       "array([1, 2, 3, 4, 5, 6, 7], dtype=int64)"
      ]
     },
     "execution_count": 37,
     "metadata": {},
     "output_type": "execute_result"
    }
   ],
   "source": [
    "logs_df['Defect_ID'].unique()"
   ]
  },
  {
   "cell_type": "code",
   "execution_count": 45,
   "id": "48992fdc-e78c-461d-8b68-d52155124e24",
   "metadata": {},
   "outputs": [
    {
     "ename": "IndexError",
     "evalue": "index -1 is out of bounds for axis 0 with size 0",
     "output_type": "error",
     "traceback": [
      "\u001b[1;31m---------------------------------------------------------------------------\u001b[0m",
      "\u001b[1;31mIndexError\u001b[0m                                Traceback (most recent call last)",
      "File \u001b[1;32m~\\AppData\\Local\\Programs\\Python\\Python312\\Lib\\site-packages\\pandas\\core\\indexes\\range.py:1018\u001b[0m, in \u001b[0;36mRangeIndex.__getitem__\u001b[1;34m(self, key)\u001b[0m\n\u001b[0;32m   1017\u001b[0m \u001b[38;5;28;01mtry\u001b[39;00m:\n\u001b[1;32m-> 1018\u001b[0m     \u001b[38;5;28;01mreturn\u001b[39;00m \u001b[38;5;28;43mself\u001b[39;49m\u001b[38;5;241;43m.\u001b[39;49m\u001b[43m_range\u001b[49m\u001b[43m[\u001b[49m\u001b[43mnew_key\u001b[49m\u001b[43m]\u001b[49m\n\u001b[0;32m   1019\u001b[0m \u001b[38;5;28;01mexcept\u001b[39;00m \u001b[38;5;167;01mIndexError\u001b[39;00m \u001b[38;5;28;01mas\u001b[39;00m err:\n",
      "\u001b[1;31mIndexError\u001b[0m: range object index out of range",
      "\nThe above exception was the direct cause of the following exception:\n",
      "\u001b[1;31mIndexError\u001b[0m                                Traceback (most recent call last)",
      "Cell \u001b[1;32mIn[45], line 1\u001b[0m\n\u001b[1;32m----> 1\u001b[0m \u001b[43mdf\u001b[49m\u001b[38;5;241;43m.\u001b[39;49m\u001b[43mindex\u001b[49m\u001b[43m[\u001b[49m\u001b[38;5;241;43m-\u001b[39;49m\u001b[38;5;241;43m1\u001b[39;49m\u001b[43m]\u001b[49m\n",
      "File \u001b[1;32m~\\AppData\\Local\\Programs\\Python\\Python312\\Lib\\site-packages\\pandas\\core\\indexes\\range.py:1020\u001b[0m, in \u001b[0;36mRangeIndex.__getitem__\u001b[1;34m(self, key)\u001b[0m\n\u001b[0;32m   1018\u001b[0m         \u001b[38;5;28;01mreturn\u001b[39;00m \u001b[38;5;28mself\u001b[39m\u001b[38;5;241m.\u001b[39m_range[new_key]\n\u001b[0;32m   1019\u001b[0m     \u001b[38;5;28;01mexcept\u001b[39;00m \u001b[38;5;167;01mIndexError\u001b[39;00m \u001b[38;5;28;01mas\u001b[39;00m err:\n\u001b[1;32m-> 1020\u001b[0m         \u001b[38;5;28;01mraise\u001b[39;00m \u001b[38;5;167;01mIndexError\u001b[39;00m(\n\u001b[0;32m   1021\u001b[0m             \u001b[38;5;124mf\u001b[39m\u001b[38;5;124m\"\u001b[39m\u001b[38;5;124mindex \u001b[39m\u001b[38;5;132;01m{\u001b[39;00mkey\u001b[38;5;132;01m}\u001b[39;00m\u001b[38;5;124m is out of bounds for axis 0 with size \u001b[39m\u001b[38;5;132;01m{\u001b[39;00m\u001b[38;5;28mlen\u001b[39m(\u001b[38;5;28mself\u001b[39m)\u001b[38;5;132;01m}\u001b[39;00m\u001b[38;5;124m\"\u001b[39m\n\u001b[0;32m   1022\u001b[0m         ) \u001b[38;5;28;01mfrom\u001b[39;00m \u001b[38;5;21;01merr\u001b[39;00m\n\u001b[0;32m   1023\u001b[0m \u001b[38;5;28;01melif\u001b[39;00m is_scalar(key):\n\u001b[0;32m   1024\u001b[0m     \u001b[38;5;28;01mraise\u001b[39;00m \u001b[38;5;167;01mIndexError\u001b[39;00m(\n\u001b[0;32m   1025\u001b[0m         \u001b[38;5;124m\"\u001b[39m\u001b[38;5;124monly integers, slices (`:`), \u001b[39m\u001b[38;5;124m\"\u001b[39m\n\u001b[0;32m   1026\u001b[0m         \u001b[38;5;124m\"\u001b[39m\u001b[38;5;124mellipsis (`...`), numpy.newaxis (`None`) \u001b[39m\u001b[38;5;124m\"\u001b[39m\n\u001b[0;32m   1027\u001b[0m         \u001b[38;5;124m\"\u001b[39m\u001b[38;5;124mand integer or boolean \u001b[39m\u001b[38;5;124m\"\u001b[39m\n\u001b[0;32m   1028\u001b[0m         \u001b[38;5;124m\"\u001b[39m\u001b[38;5;124marrays are valid indices\u001b[39m\u001b[38;5;124m\"\u001b[39m\n\u001b[0;32m   1029\u001b[0m     )\n",
      "\u001b[1;31mIndexError\u001b[0m: index -1 is out of bounds for axis 0 with size 0"
     ]
    }
   ],
   "source": [
    "df.index[-1]"
   ]
  },
  {
   "cell_type": "code",
   "execution_count": 48,
   "id": "3938c972-691a-4e22-8801-ce31e5063b0a",
   "metadata": {},
   "outputs": [
    {
     "data": {
      "text/plain": [
       "ID\n",
       "1    0:05:31\n",
       "Name: Timestamp, dtype: object"
      ]
     },
     "execution_count": 48,
     "metadata": {},
     "output_type": "execute_result"
    }
   ],
   "source": [
    "logs_df.loc[(logs_df['Defect_ID']==1) & (logs_df['State']=='new')]['Timestamp']"
   ]
  },
  {
   "cell_type": "code",
   "execution_count": null,
   "id": "7c262d0e-77b6-450d-86c1-6253468d6775",
   "metadata": {},
   "outputs": [],
   "source": []
  }
 ],
 "metadata": {
  "kernelspec": {
   "display_name": "Python 3 (ipykernel)",
   "language": "python",
   "name": "python3"
  },
  "language_info": {
   "codemirror_mode": {
    "name": "ipython",
    "version": 3
   },
   "file_extension": ".py",
   "mimetype": "text/x-python",
   "name": "python",
   "nbconvert_exporter": "python",
   "pygments_lexer": "ipython3",
   "version": "3.12.3"
  }
 },
 "nbformat": 4,
 "nbformat_minor": 5
}
